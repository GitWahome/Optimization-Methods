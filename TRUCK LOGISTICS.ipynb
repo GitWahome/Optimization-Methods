{
  "nbformat": 4,
  "nbformat_minor": 0,
  "metadata": {
    "colab": {
      "name": "Final Proj OM.ipynb",
      "version": "0.3.2",
      "provenance": [],
      "collapsed_sections": [],
      "include_colab_link": true
    },
    "kernelspec": {
      "name": "python3",
      "display_name": "Python 3"
    }
  },
  "cells": [
    {
      "cell_type": "markdown",
      "metadata": {
        "id": "view-in-github",
        "colab_type": "text"
      },
      "source": [
        "<a href=\"https://colab.research.google.com/github/GitWahome/Optimization-Methods/blob/master/Final_Proj_OM.ipynb\" target=\"_parent\"><img src=\"https://colab.research.google.com/assets/colab-badge.svg\" alt=\"Open In Colab\"/></a>"
      ]
    },
    {
      "metadata": {
        "id": "0oLkOe8R0_5Z",
        "colab_type": "code",
        "colab": {}
      },
      "cell_type": "code",
      "source": [
        "import numpy as np\n",
        "import cvxpy as cvx\n",
        "from timeit import default_timer as time\n",
        "import collections"
      ],
      "execution_count": 0,
      "outputs": []
    },
    {
      "metadata": {
        "id": "UjwWmM8M3vZH",
        "colab_type": "text"
      },
      "cell_type": "markdown",
      "source": [
        "Background:\n",
        "\n",
        "My Aunt operates a trucking logistics firm in Dallas Texas.  They key to this operation is the dispatch process. \n",
        "I analyzed  how they run it and realized that they make use of a greedy approach. They receive orders from a listings board, call the list poster and negotiate a price.\n",
        "There are several factors that determine whether they take a specific order. Among them are the size of the objects to be moved, the weight of the objects listed, the destination of the order, the expected roadtime which can be infered from the delivery date among others.\n",
        "\n",
        "This in essence presents a real time Knapsack problem but there are some nuances that make it a bit of a challenge but also allow for some assumptions."
      ]
    },
    {
      "metadata": {
        "id": "t6CQL6UVwLxo",
        "colab_type": "text"
      },
      "cell_type": "markdown",
      "source": [
        "**PROBLEM (S)**:\n",
        " \n",
        " There are a number of subproblems that this set up presents all of which  can be solved using various convex and non convex approaches.\n",
        "\n",
        "My approach to this has been to define a subproblem and then solve it using CVCPY, each time justifying why I thought he approach taken fits the context.\n",
        "\n",
        "For a start, we will define some constants which we must take into account. \n",
        "\n",
        "\n",
        "*   A logistics company can lease trucks of any size.. \n",
        "\n",
        "*   Heavy Class 7 trucks have a carrying capacity of 55000 pounds.\n",
        "\n",
        "*   Small class 2 trucks have a carrying capacity of  26000 pounds.\n",
        "\n",
        "*   Medium class 6 trucks have a carrying capacity of 33000 pounds.\n",
        "\n",
        "\n",
        "*(I'm so sorry for using pounds, but you know, the backward Americans)*\n",
        "\n",
        "The objective is simple,  they  need to minimize the number of trucks while maximizing the weight carried by each container.\n",
        "\n",
        "\n",
        "One catch is, how many goods are put in one container is dependent only on the weight of the content already in the box weight. The profits though are mainly determined by the weight of the goods being transfered hence a carrying weight capacity constraint is imposed depending on the trucks available. \n",
        "\n",
        "**This makes evaluation easy as we only need to track the weight of the boxes when evaluating profits. The problem thus lies in optimizing for volume while maximizing profit. I make the assumption that all vehicles are available and if not, then they can always lease a new vehicle to do the work This is where my main challenge is.**\n",
        "\n",
        "Transport  costs are dependent on the  weight and distance that the goods need to travel. The profit is entirely dependent on the weight and distance. To extend our objective function,  **We can determine the expected profit for each item. The objective is to maximize the weight and carried by each container given the volume and weight of each item. **\n",
        "\n",
        "NOTE: I acknowledge the essence of route optimization but that introduces a layer of complexity hence I am abstracting the routes. \n",
        "\n",
        "I do not have the exact number but let us assume:\n",
        "\n",
        "1.   The maximum consumption of a heavy truck is say 55.6 per 100 Kilometers  and the minimum is 18 when it is not carrying anything(Large trucks),\n",
        "\n",
        "2.  The maximum consumption of a medium truck is say 40.5 liters per Kilometer  and the minimum is 10 when it is not carrying anything(Medium trucks)\n",
        "\n",
        "3.   The maximum consumption of a small truck is say 34 liters per Kilometer  and the minimum is 5 when it is not carrying anything(Small trucks)\n",
        "\n",
        "The weight relative to the maximum carrying capacity will determine the fuel consumption. We can evaluate the expected profits by multiplying the expected fuel consumption by the cost of fuel which we i assume to be 10$ per liter. \n",
        "\n",
        "I set a weight check too to be returned  if the load weight is within the vehicle limit. This allows us to know which car to use since we dont want to go over the limit to avoid getting citations.\n",
        "\n",
        "Any car can travel any distance so there are no distance constraints, if anything, distance is good since we will make more money We just have to monitor how the fuel is affected by the weight.\n",
        "(In real life however, repair costs make it such that it is more efficient to use large trucks over long distances. I abstract this to keep things relatively simple)\n",
        "\n"
      ]
    },
    {
      "metadata": {
        "id": "mdg47nJH4QUq",
        "colab_type": "code",
        "outputId": "8f5ec9fd-2964-40c4-87f9-b546669f64df",
        "colab": {
          "base_uri": "https://localhost:8080/",
          "height": 290
        }
      },
      "cell_type": "code",
      "source": [
        "def fuel_cost(weight, distance, truck_class, weight_check = True, fuel_rate=10):\n",
        "  if truck_class == \"H\":\n",
        "    max_weight, min_consumption, max_consumption= 55000, 18, 55.6\n",
        "    if weight>max_weight:\n",
        "        weight_check = False\n",
        "  if truck_class == \"M\":\n",
        "    max_weight, min_consumption, max_consumption= 33000, 10, 40.5\n",
        "    if weight>max_weight:\n",
        "      weight_check = False\n",
        "  if truck_class == \"S\":\n",
        "    max_weight, min_consumption, max_consumption= 26000, 5, 34\n",
        "    if weight>max_weight:\n",
        "      weight_check = False\n",
        "  return (min_consumption+(weight/max_weight)*(max_consumption-min_consumption))* fuel_rate *(distance/100), weight_check\n",
        "\n",
        "print(\"1KM - MAX SMALL CAPACITY: 26000\")\n",
        "print(\"MEDIUM\",fuel_cost(26000, 1,\"M\"))\n",
        "print(\"SMALL\",fuel_cost(26000, 1,\"S\"))\n",
        "print(\"\\nSLIGHTLY HIGHER: 26500\")\n",
        "print(\"MEDIUM\",fuel_cost(26500, 1,\"M\"))\n",
        "print(\"SMALL\",fuel_cost(26500, 1,\"S\"))\n",
        "\n",
        "print(\"\\n_______________________________________________________________________\")\n",
        "\n",
        "\n",
        "print(\"1KM -MAX MEDIUM CAPACITY: 26000\")\n",
        "print(\"HEAVY\",fuel_cost(33000, 1,\"H\"))\n",
        "print(\"MEDIUM\",fuel_cost(33000, 1,\"M\"))\n",
        "print(\"\\nSLIGHTLY HIGHER: 28500\")\n",
        "print(\"HEAVY\",fuel_cost(33500, 1,\"H\"))\n",
        "print(\"MEDIUM\",fuel_cost(33500,1, \"M\"))\n"
      ],
      "execution_count": 0,
      "outputs": [
        {
          "output_type": "stream",
          "text": [
            "1KM - MAX SMALL CAPACITY: 26000\n",
            "MEDIUM (3.4030303030303033, True)\n",
            "SMALL (3.4, True)\n",
            "\n",
            "SLIGHTLY HIGHER: 26500\n",
            "MEDIUM (3.449242424242424, True)\n",
            "SMALL (3.455769230769231, False)\n",
            "\n",
            "_______________________________________________________________________\n",
            "1KM -MAX MEDIUM CAPACITY: 26000\n",
            "HEAVY (4.056, True)\n",
            "MEDIUM (4.05, True)\n",
            "\n",
            "SLIGHTLY HIGHER: 28500\n",
            "HEAVY (4.090181818181819, True)\n",
            "MEDIUM (4.096212121212122, False)\n"
          ],
          "name": "stdout"
        }
      ]
    },
    {
      "metadata": {
        "id": "2hjcvXaevi0K",
        "colab_type": "text"
      },
      "cell_type": "markdown",
      "source": [
        "We observe that smaller trucks are more efficient when the load is smaller. Large trucks with their larger capacity are more efficient for heavy loads. Any car can carry over Its capacity but then the consumption gets larger.\n",
        "\n",
        "I have based my limits on true data but adjusted the range of consumption such that each vehicle is the most efficient at Its maximum capacity(And still is going slightly higher) but the next vehicle class becomes more efficient quickly and surpases it. \n",
        "\n",
        "In real life, going over the capacity entails more repair/maintenance costs thus it always makes sense to use the next vehicle class if the capacity is larger than the prescribed limit.\n",
        "\n",
        "Details on fuel consumption by weights are provided [in this wikipedia article](https://en.wikipedia.org/wiki/Fuel_efficiency)"
      ]
    },
    {
      "metadata": {
        "id": "DDlTC1-eRkSe",
        "colab_type": "text"
      },
      "cell_type": "markdown",
      "source": [
        "This sets us the problem quite nicely.  Once we receive orders which entails distances and weights, and volume, we simply have to analyze the expected profits from each item. I assume the charge is 2USD per KM. The Cost depends on the weight too. I will assume a uniform charge of 2.5 USD per lb. This thus gives us a charges function for any given load as: 2distance +2.5load. It should be higher than the fuel cost otherwise the whole operation is a waste. These values are such that we still make a profit even if we are transporting a 1 Kilo load over a distance of 1 kilometer.\n",
        "\n",
        "Normally the price is negotiated an agreed upon thus if a customer is a noob, they can overpay but in some instances, they negotiate too much. For simpicity, I will assume an average cost. \n",
        "\n",
        "Quick note: In real like, we can have a minimum average and during negotiation, all we need to do is ensure the price paid by a customer does not reduce our average to below the minimum. \n",
        "\n",
        "So with 2$/KM in cost, we can evaluate the profit made from item trip by:"
      ]
    },
    {
      "metadata": {
        "id": "9WxnZq9gRi2o",
        "colab_type": "code",
        "outputId": "e4cb6757-c5bc-4c2f-e8e6-4c977db1a87c",
        "colab": {
          "base_uri": "https://localhost:8080/",
          "height": 85
        }
      },
      "cell_type": "code",
      "source": [
        "chargesF = lambda weight, distance: 2*weight+2.5*distance\n",
        "print(\"SMALL\",fuel_cost(1, 1,\"S\"))\n",
        "print(\"MEDIUMM\",fuel_cost(1, 1,\"M\"))\n",
        "print(\"LARGE\",fuel_cost(1, 1,\"H\"))\n",
        "print(charges(1,1))"
      ],
      "execution_count": 0,
      "outputs": [
        {
          "output_type": "stream",
          "text": [
            "SMALL (0.5001115384615384, True)\n",
            "MEDIUMM (1.0000924242424243, True)\n",
            "LARGE (1.8000683636363635, True)\n",
            "4.5\n"
          ],
          "name": "stdout"
        }
      ]
    },
    {
      "metadata": {
        "id": "DodIf4odWXVo",
        "colab_type": "code",
        "colab": {}
      },
      "cell_type": "code",
      "source": [
        "def profits(weights, distances):\n",
        "  costs_heavy = [fuel_cost(weights[i], distances[i],\"H\") for i in range(len(weights))]\n",
        "  costs_medium = [fuel_cost(weights[i], distances[i],\"M\") for i in range(len(weights))]\n",
        "  costs_small = [fuel_cost(weights[i], distances[i],\"S\") for i in range(len(weights))]\n",
        "  charges = [chargesF(weights[i],distances[i]) for i in range(len(weights))]\n",
        "  \n",
        "  return({\"H\":[(charges[i]-costs_heavy[i][0],costs_heavy[i][1]) for i in range(len(weights))], \n",
        "          \"M\":[(charges[i]-costs_medium[i][0],costs_medium[i][1]) for i in range(len(weights))], \n",
        "          \"S\":[(charges[i]-costs_small[i][0], costs_small[i][1]) for i in range(len(weights))]})"
      ],
      "execution_count": 0,
      "outputs": []
    },
    {
      "metadata": {
        "id": "SBgMNTuDWYjP",
        "colab_type": "text"
      },
      "cell_type": "markdown",
      "source": [
        "Example:"
      ]
    },
    {
      "metadata": {
        "id": "-aDny5bqCzQK",
        "colab_type": "code",
        "outputId": "f4b9d727-8467-4ae8-9843-1045d683690f",
        "colab": {
          "base_uri": "https://localhost:8080/",
          "height": 426
        }
      },
      "cell_type": "code",
      "source": [
        "volumes = [800, 400, 1200, 200, 500, 220, 1000, 400]\n",
        "weights = [10000, 8000, 20000, 50000, 30000, 40000, 50000, 46000]\n",
        "profits(weights, distances)"
      ],
      "execution_count": 0,
      "outputs": [
        {
          "output_type": "execute_result",
          "data": {
            "text/plain": [
              "{'H': [(20013.090909090908, True),\n",
              "  (16061.236363636364, True),\n",
              "  (39919.92727272727, True),\n",
              "  (99945.63636363637, True),\n",
              "  (59324.545454545456, True),\n",
              "  (79955.24, True),\n",
              "  (99972.81818181818, True),\n",
              "  (91902.2109090909, True)],\n",
              " 'M': [(20460.60606060606, True),\n",
              "  (16304.242424242424, True),\n",
              "  (39958.181818181816, True),\n",
              "  (99937.57575757576, False),\n",
              "  (59363.63636363636, True),\n",
              "  (79951.66666666667, False),\n",
              "  (99968.78787878787, False),\n",
              "  (91889.93939393939, False)],\n",
              " 'S': [(20707.69230769231, True),\n",
              "  (16443.076923076922, True),\n",
              "  (39972.307692307695, True),\n",
              "  (99928.46153846153, False),\n",
              "  (59326.92307692308, False),\n",
              "  (79945.84615384616, False),\n",
              "  (99964.23076923077, False),\n",
              "  (91874.76923076923, False)]}"
            ]
          },
          "metadata": {
            "tags": []
          },
          "execution_count": 381
        }
      ]
    },
    {
      "metadata": {
        "id": "iEgNpUsFyJdD",
        "colab_type": "text"
      },
      "cell_type": "markdown",
      "source": [
        "Now let us define a a solve\n",
        "This should take in the item weights and volumes then give us the minimum number of containers we will need. I have included a solution decomposer that will tell us the optimum content of each container. \n",
        "\n",
        "Note: Sometimes weight and volume are not the only factor at play. A client may be transporting radioactive elements, or food in which case, these can only be transported together or wholly alone even if space is wasted. We skip  such cases to keep things simple. These are also easy to handle. We just assign a container to the isolated items and in foods and such, we just do the optimization for orders that are of similar type.\n",
        "\n",
        "For now, let us solve this generally."
      ]
    },
    {
      "metadata": {
        "id": "02nUi7WNWdwq",
        "colab_type": "code",
        "outputId": "d3520f53-a772-47ac-aeb2-9e32b37559ac",
        "colab": {
          "base_uri": "https://localhost:8080/",
          "height": 480
        }
      },
      "cell_type": "code",
      "source": [
        "print(cvx.installed_solvers())\n",
        "box_vol = 1500\n",
        "box_weight = 55000\n",
        "\n",
        "def m_solver(factor_1, factor_2, max_capacity_r1, max_capacity_r2, solver=cvx.GLPK_MI):\n",
        "\n",
        "  max_n_boxes = len(factor_1) # real-world: heuristic?\n",
        "\n",
        "  \"\"\" Optimization \"\"\"\n",
        "\n",
        "  # VARIABLES\n",
        "  trucks_used = cvx.Variable(max_n_boxes, boolean=True)\n",
        "  truck_distance = cvx.Variable(max_n_boxes)\n",
        "  truck_weight = cvx.Variable(max_n_boxes)\n",
        "  truck_item_map = cvx.Variable((max_n_boxes, len(factor_1)), boolean=True)\n",
        "\n",
        "  # CONSTRAINTS\n",
        "  cons = []\n",
        "\n",
        "  # each item is shipped once\n",
        "  cons.append(cvx.sum(truck_item_map, axis=0) == 1)\n",
        "  # box is used when >=1 item is using it\n",
        "  cons.append(trucks_used * (len(factor_1) + 1) >= cvx.sum(truck_item_map, axis=1))\n",
        "  # box vol constraints\n",
        "  cons.append(truck_item_map * factor_1 <= max_capacity_r1)\n",
        "\n",
        "  # box weight constraints\n",
        "  cons.append(truck_item_map * factor_2 <= max_capacity_r2)\n",
        "\n",
        "  problem = cvx.Problem(cvx.Minimize(cvx.sum(trucks_used)), cons)\n",
        "  start_t = time()\n",
        "  problem.solve(solver=solver, verbose=True)\n",
        "  end_t = time()\n",
        "  print(f'OPTIMUM SOLUTION EVALUATED IN {end_t - start_t} SECONDS')\n",
        "  print(problem.status)\n",
        "  print(problem.value)\n",
        "  print(truck_item_map.value)\n",
        "\n",
        "  \"\"\" Reconstruct solution \"\"\"\n",
        "  n_boxes_used = int(np.round(problem.value))\n",
        "  box_inds_used = np.where(np.isclose(trucks_used.value, 1.0))[0]\n",
        "  truck_loads = {}\n",
        "  for box in range(n_boxes_used):\n",
        "      truck_loads[box]=[]\n",
        "      raw = truck_item_map[box_inds_used[box]]\n",
        "      items = np.where(np.isclose(raw.value, 1.0))[0]\n",
        "      vol_used = 0\n",
        "      weight_used = 0\n",
        "      for item in items:\n",
        "        truck_loads[box].append((item, (factor_1[item], factor_2[item])))\n",
        "        vol_used += factor_1[item]\n",
        "        weight_used += factor_2[item]\n",
        "  return {\"Minimum Containers\":n_boxes_used,\"Load List\":truck_loads,\"(Total Volume, Total Weight)\":(vol_used, weight_used)}\n",
        "solution = m_solver(factor_1= volumes,\n",
        "         factor_2= weights,\n",
        "         max_capacity_r1= box_vol,\n",
        "         max_capacity_r2= box_weight)\n",
        "\n",
        "print(solution)"
      ],
      "execution_count": 0,
      "outputs": [
        {
          "output_type": "stream",
          "text": [
            "['ECOS', 'ECOS_BB', 'CVXOPT', 'GLPK', 'GLPK_MI', 'SCS', 'OSQP']\n",
            "OPTIMUM SOLUTION EVALUATED IN 13.150033977999556 SECONDS\n",
            "optimal\n",
            "6.0\n",
            "[[0. 0. 0. 0. 0. 0. 0. 0.]\n",
            " [0. 0. 1. 0. 0. 0. 0. 0.]\n",
            " [0. 0. 0. 0. 0. 0. 0. 0.]\n",
            " [0. 0. 0. 0. 0. 0. 0. 1.]\n",
            " [0. 1. 0. 0. 1. 0. 0. 0.]\n",
            " [0. 0. 0. 1. 0. 0. 0. 0.]\n",
            " [0. 0. 0. 0. 0. 0. 1. 0.]\n",
            " [1. 0. 0. 0. 0. 1. 0. 0.]]\n",
            "{'Minimum Containers': 6, 'Load List': {0: [(2, (1200, 20000))], 1: [(7, (400, 46000))], 2: [(1, (400, 8000)), (4, (500, 30000))], 3: [(3, (200, 50000))], 4: [(6, (1000, 50000))], 5: [(0, (800, 10000)), (5, (220, 40000))]}, '(Total Volume, Total Weight)': (1020, 50000)}\n",
            "['ECOS', 'ECOS_BB', 'CVXOPT', 'GLPK', 'GLPK_MI', 'SCS', 'OSQP']\n",
            "OPTIMUM SOLUTION EVALUATED IN 12.504759142000694 SECONDS\n",
            "optimal\n",
            "6.0\n",
            "[[0. 0. 0. 0. 0. 0. 0. 0.]\n",
            " [0. 0. 1. 0. 0. 0. 0. 0.]\n",
            " [0. 0. 0. 0. 0. 0. 0. 0.]\n",
            " [0. 0. 0. 0. 0. 0. 0. 1.]\n",
            " [0. 1. 0. 0. 1. 0. 0. 0.]\n",
            " [0. 0. 0. 1. 0. 0. 0. 0.]\n",
            " [0. 0. 0. 0. 0. 0. 1. 0.]\n",
            " [1. 0. 0. 0. 0. 1. 0. 0.]]\n",
            "{'Minimum Containers': 6, 'Load List': {0: [(2, (1200, 20000))], 1: [(7, (400, 46000))], 2: [(1, (400, 8000)), (4, (500, 30000))], 3: [(3, (200, 50000))], 4: [(6, (1000, 50000))], 5: [(0, (800, 10000)), (5, (220, 40000))]}, '(Total Volume, Total Weight)': (1020, 50000)}\n"
          ],
          "name": "stdout"
        }
      ]
    },
    {
      "metadata": {
        "id": "13gmICun9eyp",
        "colab_type": "text"
      },
      "cell_type": "markdown",
      "source": [
        "I now need a helper function to make sense of the data.\n",
        "NOTE: I have incorporated this into my profit evaluator above.  \n",
        "\n",
        "We know we need 5 trucks. The class of the track will depend on the  weight.  I am making the assumption that we can use constant container sizes. In real life, we use smaller containers on small vehicles. The volume capacity tends to vary depending on the class of the vehicle. Either way, since  the system has optimized the load for volume and weight, we can simply look at these numbers and determine which vehicles to lease.  To do this, we need to define the bounds for the different classes. We assume that each vehicle can pull one container.\n",
        "\n",
        "For each container, we evaluate the expected profit for the three vehicle  classes, picking the vehicle class that gives us maximum profit.\n",
        "\n",
        "We do this then output the total profit and the leased vehicles recommendation."
      ]
    },
    {
      "metadata": {
        "id": "0Flj7aLJ72ZA",
        "colab_type": "code",
        "outputId": "951440a4-1c83-4a51-c689-e638a9c26375",
        "colab": {
          "base_uri": "https://localhost:8080/",
          "height": 34
        }
      },
      "cell_type": "code",
      "source": [
        "def solution_processor(solution):\n",
        "  expected_profit, expected_class = [], []\n",
        "  for item_id in solution['Load List'].keys():\n",
        "    item, (volume, weight) = solution['Load List'][item_id][0]\n",
        "    profit = profits([volume], [weight])\n",
        "    prof_item = []\n",
        "    truck_class ={1:\"HEAVY\", 2:\"MID\", 3:\"SMALL\"}\n",
        "    for prof in profit.keys():\n",
        "      if profit[prof][0][1]:\n",
        "        prof_item.append(profit[prof][0][0])\n",
        "      else:\n",
        "        prof_item.append(0)\n",
        "    item_profit = max(prof_item)\n",
        "    truck_c = truck_class[prof_item.index(item_profit)]\n",
        "    expected_profit.append(item_profit)\n",
        "    expected_class.append(truck_c)\n",
        "  return expected_profit, expected_class\n",
        "optimum_vehicles = solution_processor(solution)\n",
        "vehicles = dict(collections.Counter(optimum_vehicles[1])\n",
        "for item in :vehicles.keys():\n",
        "  print(f\"You need {item[1]}{}{{{} \"){}{} {} {}  {}  {}  "
      ],
      "execution_count": 0,
      "outputs": [
        {
          "output_type": "stream",
          "text": [
            "MID\n"
          ],
          "name": "stdout"
        }
      ]
    },
    {
      "metadata": {
        "id": "i-XeXU5-yHOS",
        "colab_type": "code",
        "colab": {}
      },
      "cell_type": "code",
      "source": [
        ""
      ],
      "execution_count": 0,
      "outputs": []
    },
    {
      "metadata": {
        "id": "mjnDbDdYdq2b",
        "colab_type": "text"
      },
      "cell_type": "markdown",
      "source": [
        "Note,"
      ]
    },
    {
      "metadata": {
        "id": "QtcygrSadqD2",
        "colab_type": "code",
        "colab": {}
      },
      "cell_type": "code",
      "source": [
        ""
      ],
      "execution_count": 0,
      "outputs": []
    },
    {
      "metadata": {
        "id": "NkVymk0xCv0K",
        "colab_type": "code",
        "colab": {}
      },
      "cell_type": "code",
      "source": [
        ""
      ],
      "execution_count": 0,
      "outputs": []
    }
  ]
}
